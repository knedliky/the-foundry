{
 "cells": [
  {
   "cell_type": "markdown",
   "id": "1468b154-c699-43bd-b4ca-a682f3c9f0c9",
   "metadata": {},
   "source": [
    "# Data Preparation"
   ]
  },
  {
   "cell_type": "code",
   "execution_count": 55,
   "id": "f2f6e603-9d50-407a-8088-d32ab24252bf",
   "metadata": {},
   "outputs": [],
   "source": [
    "import pandas as pd\n",
    "import numpy as np\n",
    "import matplotlib.pyplot as plt\n",
    "\n",
    "pd.set_option('display.max_columns', 500)\n",
    "%matplotlib inline"
   ]
  },
  {
   "cell_type": "code",
   "execution_count": 56,
   "id": "46dd1b93-0e4c-498a-8860-b164eff0d169",
   "metadata": {},
   "outputs": [],
   "source": [
    "train = pd.read_csv('train.csv')"
   ]
  },
  {
   "cell_type": "code",
   "execution_count": 57,
   "id": "bd80c748-7bc7-4214-b86f-aee801d69648",
   "metadata": {},
   "outputs": [],
   "source": [
    "X = train.drop('Price', axis=1)\n",
    "y = train['Price'].copy()"
   ]
  },
  {
   "cell_type": "code",
   "execution_count": 59,
   "id": "cd51fcec-fb5b-45d7-9427-86abca416b22",
   "metadata": {},
   "outputs": [
    {
     "data": {
      "text/html": [
       "<div>\n",
       "<style scoped>\n",
       "    .dataframe tbody tr th:only-of-type {\n",
       "        vertical-align: middle;\n",
       "    }\n",
       "\n",
       "    .dataframe tbody tr th {\n",
       "        vertical-align: top;\n",
       "    }\n",
       "\n",
       "    .dataframe thead th {\n",
       "        text-align: right;\n",
       "    }\n",
       "</style>\n",
       "<table border=\"1\" class=\"dataframe\">\n",
       "  <thead>\n",
       "    <tr style=\"text-align: right;\">\n",
       "      <th></th>\n",
       "      <th>Suburb</th>\n",
       "      <th>Address</th>\n",
       "      <th>Rooms</th>\n",
       "      <th>Type</th>\n",
       "      <th>Method</th>\n",
       "      <th>SellerG</th>\n",
       "      <th>Date</th>\n",
       "      <th>Distance</th>\n",
       "      <th>Postcode</th>\n",
       "      <th>Bedroom2</th>\n",
       "      <th>Bathroom</th>\n",
       "      <th>Car</th>\n",
       "      <th>Landsize</th>\n",
       "      <th>BuildingArea</th>\n",
       "      <th>YearBuilt</th>\n",
       "      <th>CouncilArea</th>\n",
       "      <th>Lattitude</th>\n",
       "      <th>Longtitude</th>\n",
       "      <th>Regionname</th>\n",
       "      <th>Propertycount</th>\n",
       "    </tr>\n",
       "  </thead>\n",
       "  <tbody>\n",
       "    <tr>\n",
       "      <th>0</th>\n",
       "      <td>Reservoir</td>\n",
       "      <td>2/17 Barton St</td>\n",
       "      <td>3</td>\n",
       "      <td>u</td>\n",
       "      <td>S</td>\n",
       "      <td>HAR</td>\n",
       "      <td>17/03/2018</td>\n",
       "      <td>12.0</td>\n",
       "      <td>3073.0</td>\n",
       "      <td>NaN</td>\n",
       "      <td>NaN</td>\n",
       "      <td>NaN</td>\n",
       "      <td>NaN</td>\n",
       "      <td>NaN</td>\n",
       "      <td>NaN</td>\n",
       "      <td>Darebin City Council</td>\n",
       "      <td>NaN</td>\n",
       "      <td>NaN</td>\n",
       "      <td>Northern Metropolitan</td>\n",
       "      <td>21650.0</td>\n",
       "    </tr>\n",
       "    <tr>\n",
       "      <th>1</th>\n",
       "      <td>Bundoora</td>\n",
       "      <td>3/2 Greenwood Dr</td>\n",
       "      <td>2</td>\n",
       "      <td>u</td>\n",
       "      <td>S</td>\n",
       "      <td>Barry</td>\n",
       "      <td>25/11/2017</td>\n",
       "      <td>12.1</td>\n",
       "      <td>3083.0</td>\n",
       "      <td>NaN</td>\n",
       "      <td>NaN</td>\n",
       "      <td>NaN</td>\n",
       "      <td>NaN</td>\n",
       "      <td>NaN</td>\n",
       "      <td>NaN</td>\n",
       "      <td>Banyule City Council</td>\n",
       "      <td>NaN</td>\n",
       "      <td>NaN</td>\n",
       "      <td>Northern Metropolitan</td>\n",
       "      <td>10175.0</td>\n",
       "    </tr>\n",
       "    <tr>\n",
       "      <th>2</th>\n",
       "      <td>Newport</td>\n",
       "      <td>29 Latrobe St</td>\n",
       "      <td>4</td>\n",
       "      <td>h</td>\n",
       "      <td>S</td>\n",
       "      <td>Raine&amp;Horne</td>\n",
       "      <td>7/05/2016</td>\n",
       "      <td>8.4</td>\n",
       "      <td>3015.0</td>\n",
       "      <td>NaN</td>\n",
       "      <td>NaN</td>\n",
       "      <td>NaN</td>\n",
       "      <td>NaN</td>\n",
       "      <td>NaN</td>\n",
       "      <td>NaN</td>\n",
       "      <td>Hobsons Bay City Council</td>\n",
       "      <td>NaN</td>\n",
       "      <td>NaN</td>\n",
       "      <td>Western Metropolitan</td>\n",
       "      <td>5498.0</td>\n",
       "    </tr>\n",
       "    <tr>\n",
       "      <th>3</th>\n",
       "      <td>Nunawading</td>\n",
       "      <td>8 Haros Av</td>\n",
       "      <td>3</td>\n",
       "      <td>h</td>\n",
       "      <td>S</td>\n",
       "      <td>Fletchers</td>\n",
       "      <td>26/08/2017</td>\n",
       "      <td>15.4</td>\n",
       "      <td>3131.0</td>\n",
       "      <td>3.0</td>\n",
       "      <td>1.0</td>\n",
       "      <td>1.0</td>\n",
       "      <td>NaN</td>\n",
       "      <td>101.0</td>\n",
       "      <td>1950.0</td>\n",
       "      <td>Manningham City Council</td>\n",
       "      <td>-37.82658</td>\n",
       "      <td>145.17577</td>\n",
       "      <td>Eastern Metropolitan</td>\n",
       "      <td>4973.0</td>\n",
       "    </tr>\n",
       "    <tr>\n",
       "      <th>4</th>\n",
       "      <td>Fitzroy</td>\n",
       "      <td>17 Bell St</td>\n",
       "      <td>4</td>\n",
       "      <td>h</td>\n",
       "      <td>S</td>\n",
       "      <td>Nelson</td>\n",
       "      <td>27/11/2016</td>\n",
       "      <td>1.6</td>\n",
       "      <td>3065.0</td>\n",
       "      <td>4.0</td>\n",
       "      <td>3.0</td>\n",
       "      <td>2.0</td>\n",
       "      <td>286.0</td>\n",
       "      <td>275.0</td>\n",
       "      <td>1890.0</td>\n",
       "      <td>Yarra City Council</td>\n",
       "      <td>-37.79990</td>\n",
       "      <td>144.97550</td>\n",
       "      <td>Northern Metropolitan</td>\n",
       "      <td>5825.0</td>\n",
       "    </tr>\n",
       "  </tbody>\n",
       "</table>\n",
       "</div>"
      ],
      "text/plain": [
       "       Suburb           Address  Rooms Type Method      SellerG        Date  \\\n",
       "0   Reservoir    2/17 Barton St      3    u      S          HAR  17/03/2018   \n",
       "1    Bundoora  3/2 Greenwood Dr      2    u      S        Barry  25/11/2017   \n",
       "2     Newport     29 Latrobe St      4    h      S  Raine&Horne   7/05/2016   \n",
       "3  Nunawading        8 Haros Av      3    h      S    Fletchers  26/08/2017   \n",
       "4     Fitzroy        17 Bell St      4    h      S       Nelson  27/11/2016   \n",
       "\n",
       "   Distance  Postcode  Bedroom2  Bathroom  Car  Landsize  BuildingArea  \\\n",
       "0      12.0    3073.0       NaN       NaN  NaN       NaN           NaN   \n",
       "1      12.1    3083.0       NaN       NaN  NaN       NaN           NaN   \n",
       "2       8.4    3015.0       NaN       NaN  NaN       NaN           NaN   \n",
       "3      15.4    3131.0       3.0       1.0  1.0       NaN         101.0   \n",
       "4       1.6    3065.0       4.0       3.0  2.0     286.0         275.0   \n",
       "\n",
       "   YearBuilt               CouncilArea  Lattitude  Longtitude  \\\n",
       "0        NaN      Darebin City Council        NaN         NaN   \n",
       "1        NaN      Banyule City Council        NaN         NaN   \n",
       "2        NaN  Hobsons Bay City Council        NaN         NaN   \n",
       "3     1950.0   Manningham City Council  -37.82658   145.17577   \n",
       "4     1890.0        Yarra City Council  -37.79990   144.97550   \n",
       "\n",
       "              Regionname  Propertycount  \n",
       "0  Northern Metropolitan        21650.0  \n",
       "1  Northern Metropolitan        10175.0  \n",
       "2   Western Metropolitan         5498.0  \n",
       "3   Eastern Metropolitan         4973.0  \n",
       "4  Northern Metropolitan         5825.0  "
      ]
     },
     "execution_count": 59,
     "metadata": {},
     "output_type": "execute_result"
    }
   ],
   "source": [
    "X.head()"
   ]
  },
  {
   "cell_type": "code",
   "execution_count": null,
   "id": "3a850f6b-43eb-45a2-81fe-feb43f5265e6",
   "metadata": {},
   "outputs": [],
   "source": []
  },
  {
   "cell_type": "markdown",
   "id": "f90a28fa-7451-4b4b-894a-d7d23e9d8081",
   "metadata": {},
   "source": [
    "## Simple Imputer and Encoder\n",
    "We will use median values to impute numerical variables and One Hot Encoding for categorical variables. Below is the code to confirm the functionality."
   ]
  },
  {
   "cell_type": "code",
   "execution_count": 60,
   "id": "c5d73a83-6587-4119-b3ae-37acb4fd5414",
   "metadata": {},
   "outputs": [],
   "source": [
    "from sklearn.impute import SimpleImputer\n",
    "from sklearn.preprocessing import OneHotEncoder\n",
    "\n",
    "imputer = SimpleImputer(strategy='median')\n",
    "ohe = OneHotEncoder()"
   ]
  },
  {
   "cell_type": "code",
   "execution_count": 61,
   "id": "77fc0e1e-1ac9-43bd-88db-06b61cb7c8cb",
   "metadata": {},
   "outputs": [],
   "source": [
    "# Creating a copy of the training dataset to test on safely\n",
    "housing = X.copy()"
   ]
  },
  {
   "cell_type": "code",
   "execution_count": 62,
   "id": "6d8b4c25-7d82-405d-984e-d6042c027d35",
   "metadata": {},
   "outputs": [],
   "source": [
    "# Fitting the median values imputer on the numerical columns\n",
    "housing_num = housing.select_dtypes(exclude='object')\n",
    "imputer.fit(housing_num)\n",
    "housing_num_imp = imputer.transform(housing_num)\n",
    "housing_num_tr = pd.DataFrame(housing_num_imp, columns=housing_num.columns, index=housing_num.index)"
   ]
  },
  {
   "cell_type": "code",
   "execution_count": 63,
   "id": "d41e282f-2424-4787-8f29-7b920a9abbb5",
   "metadata": {},
   "outputs": [
    {
     "data": {
      "text/html": [
       "<div>\n",
       "<style scoped>\n",
       "    .dataframe tbody tr th:only-of-type {\n",
       "        vertical-align: middle;\n",
       "    }\n",
       "\n",
       "    .dataframe tbody tr th {\n",
       "        vertical-align: top;\n",
       "    }\n",
       "\n",
       "    .dataframe thead th {\n",
       "        text-align: right;\n",
       "    }\n",
       "</style>\n",
       "<table border=\"1\" class=\"dataframe\">\n",
       "  <thead>\n",
       "    <tr style=\"text-align: right;\">\n",
       "      <th></th>\n",
       "      <th>Rooms</th>\n",
       "      <th>Distance</th>\n",
       "      <th>Postcode</th>\n",
       "      <th>Bedroom2</th>\n",
       "      <th>Bathroom</th>\n",
       "      <th>Car</th>\n",
       "      <th>Landsize</th>\n",
       "      <th>BuildingArea</th>\n",
       "      <th>YearBuilt</th>\n",
       "      <th>Lattitude</th>\n",
       "      <th>Longtitude</th>\n",
       "      <th>Propertycount</th>\n",
       "    </tr>\n",
       "  </thead>\n",
       "  <tbody>\n",
       "    <tr>\n",
       "      <th>0</th>\n",
       "      <td>3.0</td>\n",
       "      <td>12.0</td>\n",
       "      <td>3073.0</td>\n",
       "      <td>3.0</td>\n",
       "      <td>1.0</td>\n",
       "      <td>2.0</td>\n",
       "      <td>510.0</td>\n",
       "      <td>133.0</td>\n",
       "      <td>1970.0</td>\n",
       "      <td>-37.800395</td>\n",
       "      <td>145.003085</td>\n",
       "      <td>21650.0</td>\n",
       "    </tr>\n",
       "    <tr>\n",
       "      <th>1</th>\n",
       "      <td>2.0</td>\n",
       "      <td>12.1</td>\n",
       "      <td>3083.0</td>\n",
       "      <td>3.0</td>\n",
       "      <td>1.0</td>\n",
       "      <td>2.0</td>\n",
       "      <td>510.0</td>\n",
       "      <td>133.0</td>\n",
       "      <td>1970.0</td>\n",
       "      <td>-37.800395</td>\n",
       "      <td>145.003085</td>\n",
       "      <td>10175.0</td>\n",
       "    </tr>\n",
       "    <tr>\n",
       "      <th>2</th>\n",
       "      <td>4.0</td>\n",
       "      <td>8.4</td>\n",
       "      <td>3015.0</td>\n",
       "      <td>3.0</td>\n",
       "      <td>1.0</td>\n",
       "      <td>2.0</td>\n",
       "      <td>510.0</td>\n",
       "      <td>133.0</td>\n",
       "      <td>1970.0</td>\n",
       "      <td>-37.800395</td>\n",
       "      <td>145.003085</td>\n",
       "      <td>5498.0</td>\n",
       "    </tr>\n",
       "    <tr>\n",
       "      <th>3</th>\n",
       "      <td>3.0</td>\n",
       "      <td>15.4</td>\n",
       "      <td>3131.0</td>\n",
       "      <td>3.0</td>\n",
       "      <td>1.0</td>\n",
       "      <td>1.0</td>\n",
       "      <td>510.0</td>\n",
       "      <td>101.0</td>\n",
       "      <td>1950.0</td>\n",
       "      <td>-37.826580</td>\n",
       "      <td>145.175770</td>\n",
       "      <td>4973.0</td>\n",
       "    </tr>\n",
       "    <tr>\n",
       "      <th>4</th>\n",
       "      <td>4.0</td>\n",
       "      <td>1.6</td>\n",
       "      <td>3065.0</td>\n",
       "      <td>4.0</td>\n",
       "      <td>3.0</td>\n",
       "      <td>2.0</td>\n",
       "      <td>286.0</td>\n",
       "      <td>275.0</td>\n",
       "      <td>1890.0</td>\n",
       "      <td>-37.799900</td>\n",
       "      <td>144.975500</td>\n",
       "      <td>5825.0</td>\n",
       "    </tr>\n",
       "  </tbody>\n",
       "</table>\n",
       "</div>"
      ],
      "text/plain": [
       "   Rooms  Distance  Postcode  Bedroom2  Bathroom  Car  Landsize  BuildingArea  \\\n",
       "0    3.0      12.0    3073.0       3.0       1.0  2.0     510.0         133.0   \n",
       "1    2.0      12.1    3083.0       3.0       1.0  2.0     510.0         133.0   \n",
       "2    4.0       8.4    3015.0       3.0       1.0  2.0     510.0         133.0   \n",
       "3    3.0      15.4    3131.0       3.0       1.0  1.0     510.0         101.0   \n",
       "4    4.0       1.6    3065.0       4.0       3.0  2.0     286.0         275.0   \n",
       "\n",
       "   YearBuilt  Lattitude  Longtitude  Propertycount  \n",
       "0     1970.0 -37.800395  145.003085        21650.0  \n",
       "1     1970.0 -37.800395  145.003085        10175.0  \n",
       "2     1970.0 -37.800395  145.003085         5498.0  \n",
       "3     1950.0 -37.826580  145.175770         4973.0  \n",
       "4     1890.0 -37.799900  144.975500         5825.0  "
      ]
     },
     "execution_count": 63,
     "metadata": {},
     "output_type": "execute_result"
    }
   ],
   "source": [
    "housing_num_tr.head()"
   ]
  },
  {
   "cell_type": "code",
   "execution_count": 77,
   "id": "3b80c761-52b3-492b-a7c7-ef218e693a0d",
   "metadata": {},
   "outputs": [
    {
     "data": {
      "text/plain": [
       "<21797x22275 sparse matrix of type '<class 'numpy.float64'>'\n",
       "\twith 174376 stored elements in Compressed Sparse Row format>"
      ]
     },
     "execution_count": 77,
     "metadata": {},
     "output_type": "execute_result"
    }
   ],
   "source": [
    "# One Hot Encoding the categorical variables\n",
    "housing_cat = housing.select_dtypes(include='object')\n",
    "housing_cat_ohe = ohe.fit_transform(housing_cat)\n",
    "housing_cat_ohe"
   ]
  },
  {
   "cell_type": "markdown",
   "id": "33973a01-744f-449d-9016-87b4899c827b",
   "metadata": {},
   "source": [
    "## Custom Transformers\n",
    "We will use custom transformers to preprocess the columns in the dataset in order to feed into our Pipeline"
   ]
  },
  {
   "cell_type": "code",
   "execution_count": 65,
   "id": "916206ff-eadb-4029-87cf-e77607e8e436",
   "metadata": {},
   "outputs": [],
   "source": [
    "from sklearn.base import BaseEstimator, TransformerMixin\n",
    "from sklearn.preprocessing import StandardScaler\n",
    "from sklearn.pipeline import Pipeline, FeatureUnion\n",
    "from sklearn.compose import ColumnTransformer\n",
    "from datetime import datetime"
   ]
  },
  {
   "cell_type": "code",
   "execution_count": 66,
   "id": "3a14fab7-933b-4037-b951-8938627d05d2",
   "metadata": {},
   "outputs": [],
   "source": [
    "# Custom Transformer that extracts columns passed as argument to its constructor \n",
    "class FeatureSelector(BaseEstimator, TransformerMixin): \n",
    "    def __init__(self, feature_names):\n",
    "        self._feature_names = feature_names \n",
    "      \n",
    "    def fit(self, X, y = None):\n",
    "        return self \n",
    "    \n",
    "    def transform(self, X, y = None):\n",
    "        return X[self._feature_names]"
   ]
  },
  {
   "cell_type": "code",
   "execution_count": 67,
   "id": "67078f32-fff7-402a-8bd9-3fefa9390a45",
   "metadata": {},
   "outputs": [],
   "source": [
    "# Customer Transformer for numerical variables\n",
    "YEAR = datetime.now().year\n",
    "\n",
    "class NumericalTransformer(BaseEstimator, TransformerMixin):\n",
    "    def __init__(self, add_building_age=True): \n",
    "        self._add_building_age = add_building_age\n",
    "        \n",
    "    def fit(self, X, y=None):\n",
    "        return self\n",
    "    \n",
    "    def transform(self, X, y=None):\n",
    "        if self._add_building_age:\n",
    "            X.loc[:, 'BuildingAge'] = X['YearBuilt']\n",
    "        \n",
    "        return X.values"
   ]
  },
  {
   "cell_type": "code",
   "execution_count": 68,
   "id": "7fb9c515-7e15-4774-a7f2-2d75588f4b6b",
   "metadata": {},
   "outputs": [],
   "source": [
    "# Customer Transformer for categorical variables\n",
    "class CategoricalTransformer(BaseEstimator, TransformerMixin):\n",
    "    def __init__(self, use_dates = ['year', 'month', 'day']):\n",
    "        self._use_dates = use_dates\n",
    "        \n",
    "    def fit(self, X, y=None):\n",
    "        return self\n",
    "    \n",
    "    def get_year(self, obj):\n",
    "        return obj.split('/')[2]\n",
    "    \n",
    "    def get_month(self, obj):\n",
    "        return obj.split('/')[1]\n",
    "        \n",
    "    def get_day(self, obj):\n",
    "        return obj.split('/')[0]\n",
    "        \n",
    "    def transform(self, X, y=None):\n",
    "        print(type(X))\n",
    "        for spec in self._use_dates:\n",
    "            exec(\"X.loc[:,'{}'] = X['Date'].apply(self.get_{})\".format(spec, spec))\n",
    "    \n",
    "        X.drop('Date', axis=1)\n",
    "        \n",
    "        return X.values"
   ]
  },
  {
   "cell_type": "markdown",
   "id": "17a84d2e-ddfb-438b-84a3-8c7dcf54b7fc",
   "metadata": {},
   "source": [
    "We also need to grab the column names of each of the numerical and categorical features to use in the Pipeline"
   ]
  },
  {
   "cell_type": "code",
   "execution_count": 69,
   "id": "0ee28573-354c-48d8-8477-82bd7109b0bf",
   "metadata": {},
   "outputs": [],
   "source": [
    "numerical_features = X.select_dtypes(exclude='object').columns.tolist()\n",
    "categorical_features = X.select_dtypes(include='object').columns.tolist()"
   ]
  },
  {
   "cell_type": "markdown",
   "id": "65a06eb1-8664-4075-bf7a-11b5c871943c",
   "metadata": {},
   "source": [
    "## Preprocessing Pipeline (using FeatureUnion)"
   ]
  },
  {
   "cell_type": "code",
   "execution_count": 119,
   "id": "0c7ba722-c91b-43c2-92cf-c8dbcc1c06fc",
   "metadata": {},
   "outputs": [],
   "source": [
    "# Numerical pipeline\n",
    "num_pipeline = Pipeline([\n",
    "    ('num_selector', FeatureSelector(numerical_features)),\n",
    "    ('numerical_transformer', NumericalTransformer()),\n",
    "    ('imputer', SimpleImputer(strategy='median')),\n",
    "    ('std_scaler', StandardScaler()),\n",
    "])"
   ]
  },
  {
   "cell_type": "code",
   "execution_count": 120,
   "id": "90699ab4-8915-44f8-b57e-faf2c63f52d9",
   "metadata": {},
   "outputs": [],
   "source": [
    "# Categorical and Date pipeline\n",
    "cat_pipeline = Pipeline([\n",
    "    ('cat_selector', FeatureSelector(categorical_features)),\n",
    "    ('categorical_transformer', CategoricalTransformer()),\n",
    "    ('encoder', OneHotEncoder()), \n",
    "])"
   ]
  },
  {
   "cell_type": "code",
   "execution_count": 121,
   "id": "488070fb-50cc-4dac-85d1-971143ee592f",
   "metadata": {},
   "outputs": [],
   "source": [
    "full_pipeline = FeatureUnion([\n",
    "    ('cat_pipeline', cat_pipeline ),\n",
    "    ('num_pipeline', num_pipeline)\n",
    "])"
   ]
  },
  {
   "cell_type": "code",
   "execution_count": 122,
   "id": "ac16d60d-6223-4816-868b-93ab6740daa4",
   "metadata": {},
   "outputs": [
    {
     "data": {
      "text/plain": [
       "array([[ 0.00789241,  0.10596734, -0.36794961, ...,  0.04332939,\n",
       "         3.14468544,  0.06056663],\n",
       "       [-1.03471837,  0.12071815, -0.27861336, ...,  0.04332939,\n",
       "         0.58464378,  0.06056663],\n",
       "       [ 1.05050319, -0.42506177, -0.88609986, ...,  0.04332939,\n",
       "        -0.45878235,  0.06056663],\n",
       "       ...,\n",
       "       [ 2.09311397,  0.35673109,  0.65941727, ...,  0.22724383,\n",
       "        -0.46859863, -0.74977667],\n",
       "       [ 1.05050319,  0.51898998, -0.81463086, ..., -2.0714275 ,\n",
       "        -1.08880916,  0.06056663],\n",
       "       [-1.03471837, -1.25110705, -1.02010424, ..., -0.25716315,\n",
       "         2.2179392 ,  1.84332189]])"
      ]
     },
     "execution_count": 122,
     "metadata": {},
     "output_type": "execute_result"
    }
   ],
   "source": [
    "# Testing the components of the pipeline\n",
    "housing_num_tr = num_pipeline.fit_transform(housing_num)\n",
    "housing_num_tr"
   ]
  },
  {
   "cell_type": "code",
   "execution_count": 123,
   "id": "feaed462-e91f-4c28-b6d6-8f45ef071ad2",
   "metadata": {},
   "outputs": [
    {
     "name": "stdout",
     "output_type": "stream",
     "text": [
      "<class 'pandas.core.frame.DataFrame'>\n"
     ]
    },
    {
     "data": {
      "text/plain": [
       "<21797x22318 sparse matrix of type '<class 'numpy.float64'>'\n",
       "\twith 239767 stored elements in Compressed Sparse Row format>"
      ]
     },
     "execution_count": 123,
     "metadata": {},
     "output_type": "execute_result"
    }
   ],
   "source": [
    "# Testing the components of the pipeline\n",
    "housing_cat_tr = cat_pipeline.fit_transform(housing_cat)\n",
    "housing_cat_tr"
   ]
  },
  {
   "cell_type": "code",
   "execution_count": 124,
   "id": "324f4cf9-66f3-4d0f-aec2-05566efd5331",
   "metadata": {},
   "outputs": [
    {
     "name": "stdout",
     "output_type": "stream",
     "text": [
      "<class 'pandas.core.frame.DataFrame'>\n"
     ]
    },
    {
     "name": "stderr",
     "output_type": "stream",
     "text": [
      "/Users/Knedliky/.local/share/virtualenvs/Knedliky-LG9cDKve/lib/python3.10/site-packages/pandas/core/indexing.py:1667: SettingWithCopyWarning: \n",
      "A value is trying to be set on a copy of a slice from a DataFrame.\n",
      "Try using .loc[row_indexer,col_indexer] = value instead\n",
      "\n",
      "See the caveats in the documentation: https://pandas.pydata.org/pandas-docs/stable/user_guide/indexing.html#returning-a-view-versus-a-copy\n",
      "  self.obj[key] = value\n",
      "/Users/Knedliky/.local/share/virtualenvs/Knedliky-LG9cDKve/lib/python3.10/site-packages/pandas/core/indexing.py:1667: SettingWithCopyWarning: \n",
      "A value is trying to be set on a copy of a slice from a DataFrame.\n",
      "Try using .loc[row_indexer,col_indexer] = value instead\n",
      "\n",
      "See the caveats in the documentation: https://pandas.pydata.org/pandas-docs/stable/user_guide/indexing.html#returning-a-view-versus-a-copy\n",
      "  self.obj[key] = value\n"
     ]
    }
   ],
   "source": [
    "# Applying the full pipeline using FeatureUnion\n",
    "X_final = full_pipeline.fit_transform(X)"
   ]
  },
  {
   "cell_type": "code",
   "execution_count": null,
   "id": "52cc22d7-190a-4090-a7f5-1adeb28bfb48",
   "metadata": {},
   "outputs": [],
   "source": [
    "# Export the preprocessed model to csv"
   ]
  }
 ],
 "metadata": {
  "kernelspec": {
   "display_name": "Python 3.10.6 ('melbourne-housing-ilofBO1s')",
   "language": "python",
   "name": "python3"
  },
  "language_info": {
   "codemirror_mode": {
    "name": "ipython",
    "version": 3
   },
   "file_extension": ".py",
   "mimetype": "text/x-python",
   "name": "python",
   "nbconvert_exporter": "python",
   "pygments_lexer": "ipython3",
   "version": "3.10.6"
  },
  "vscode": {
   "interpreter": {
    "hash": "a56e9cb23c6e73d0d22483f1143fe69130f1d2a7e670b67bbe1dcddda8fd9ea1"
   }
  }
 },
 "nbformat": 4,
 "nbformat_minor": 5
}
