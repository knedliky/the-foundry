{
 "cells": [
  {
   "cell_type": "markdown",
   "metadata": {},
   "source": [
    "# Extract ABS Data\n",
    "The Australian Bureau of Statstics contains datasets around the economy of Australia"
   ]
  },
  {
   "cell_type": "code",
   "execution_count": 1,
   "metadata": {},
   "outputs": [],
   "source": [
    "import pandas as pd\n",
    "import requests\n",
    "import io\n",
    "import xml.etree.ElementTree as ET"
   ]
  },
  {
   "cell_type": "code",
   "execution_count": 6,
   "metadata": {},
   "outputs": [],
   "source": [
    "class ABSClient:\n",
    "    BASE_URL = 'https://api.data.abs.gov.au'\n",
    "    FORMAT = 'format=jsondata'\n",
    "\n",
    "    def __init__(self):\n",
    "        return self\n",
    "\n",
    "    def get_available_dataflows_to_df(structure_type:str='dataflow', agency_id:str='ABS', detail:str='full'):\n",
    "        url = f'{BASE_URL}/{structure_type}/{agency_id}'\n",
    "        query = f'{FORMAT}'\n",
    "        headers = {'Accepts':'application/json'}\n",
    "        response = requests.get(f'{url}?{query}', headers = headers)\n",
    "        return pd.read_xml(io.StringIO(response.text), xpath='//structure:Dataflow', namespaces={\"structure\": \"http://www.sdmx.org/resources/sdmxml/schemas/v2_1/structure\"})"
   ]
  },
  {
   "cell_type": "code",
   "execution_count": 15,
   "metadata": {},
   "outputs": [],
   "source": [
    "df = ABSClient.get_available_dataflows_to_df()"
   ]
  },
  {
   "cell_type": "code",
   "execution_count": 16,
   "metadata": {},
   "outputs": [
    {
     "data": {
      "text/html": [
       "<div>\n",
       "<style scoped>\n",
       "    .dataframe tbody tr th:only-of-type {\n",
       "        vertical-align: middle;\n",
       "    }\n",
       "\n",
       "    .dataframe tbody tr th {\n",
       "        vertical-align: top;\n",
       "    }\n",
       "\n",
       "    .dataframe thead th {\n",
       "        text-align: right;\n",
       "    }\n",
       "</style>\n",
       "<table border=\"1\" class=\"dataframe\">\n",
       "  <thead>\n",
       "    <tr style=\"text-align: right;\">\n",
       "      <th></th>\n",
       "      <th>id</th>\n",
       "      <th>agencyID</th>\n",
       "      <th>version</th>\n",
       "      <th>isFinal</th>\n",
       "      <th>Annotations</th>\n",
       "      <th>Name</th>\n",
       "      <th>Description</th>\n",
       "      <th>Structure</th>\n",
       "    </tr>\n",
       "  </thead>\n",
       "  <tbody>\n",
       "    <tr>\n",
       "      <th>1090</th>\n",
       "      <td>CPI</td>\n",
       "      <td>ABS</td>\n",
       "      <td>1.1.0</td>\n",
       "      <td>True</td>\n",
       "      <td>\\n</td>\n",
       "      <td>Consumer Price Index (CPI) 17th Series</td>\n",
       "      <td>The Consumer Price Index (CPI) measures quarte...</td>\n",
       "      <td>\\n</td>\n",
       "    </tr>\n",
       "  </tbody>\n",
       "</table>\n",
       "</div>"
      ],
      "text/plain": [
       "       id agencyID version  isFinal   Annotations  \\\n",
       "1090  CPI      ABS   1.1.0     True  \\n             \n",
       "\n",
       "                                        Name  \\\n",
       "1090  Consumer Price Index (CPI) 17th Series   \n",
       "\n",
       "                                            Description     Structure  \n",
       "1090  The Consumer Price Index (CPI) measures quarte...  \\n            "
      ]
     },
     "execution_count": 16,
     "metadata": {},
     "output_type": "execute_result"
    }
   ],
   "source": [
    "df[df['id'] == 'CPI']"
   ]
  },
  {
   "cell_type": "code",
   "execution_count": 19,
   "metadata": {},
   "outputs": [],
   "source": [
    "def get_data(dataflow_id:str, data_key:str, start_period:str, end_period:str, detail:str='full', dimension_at_observation:str='AllDimensions'):\n",
    "    url = f'{BASE_URL}/data/{dataflow_id}/{data_key}'\n",
    "    query = f'{FORMAT}'\n",
    "    headers = {'Accepts':'application/vnd.sdmx.data+json'}\n",
    "    response = requests.get(f'{url}?{query}', headers = headers)\n",
    "    return response.text\n"
   ]
  },
  {
   "cell_type": "code",
   "execution_count": 22,
   "metadata": {},
   "outputs": [],
   "source": [
    "dataflow_id = 'CPI' #'ABS,CPI,1.0.0'\n",
    "data_key = 'M1.AUS.M'\n",
    "data = get_data(dataflow_id, data_key)"
   ]
  },
  {
   "cell_type": "code",
   "execution_count": 23,
   "metadata": {},
   "outputs": [
    {
     "data": {
      "text/plain": [
       "'Not enough key values in query, expecting 5 got 3'"
      ]
     },
     "execution_count": 23,
     "metadata": {},
     "output_type": "execute_result"
    }
   ],
   "source": [
    "data"
   ]
  },
  {
   "cell_type": "code",
   "execution_count": 25,
   "metadata": {},
   "outputs": [],
   "source": [
    "import pandasdmx as sdmx"
   ]
  },
  {
   "cell_type": "code",
   "execution_count": 30,
   "metadata": {},
   "outputs": [],
   "source": [
    "abs = sdmx.Request('ABS_XML')"
   ]
  },
  {
   "cell_type": "code",
   "execution_count": 31,
   "metadata": {},
   "outputs": [],
   "source": [
    "flow_message = abs.dataflow()"
   ]
  },
  {
   "cell_type": "code",
   "execution_count": 32,
   "metadata": {},
   "outputs": [
    {
     "data": {
      "text/plain": [
       "<pandasdmx.StructureMessage>\n",
       "  <Header>\n",
       "    id: 'IDREF81600'\n",
       "    prepared: '2023-09-01T18:00:15.102605+10:00'\n",
       "    receiver: <Agency Unknown>\n",
       "    sender: <Agency Unknown>\n",
       "    source: \n",
       "    test: False\n",
       "  response: <Response [200]>\n",
       "  DataflowDefinition (1186): ABORIGINAL_POP_PROJ ABORIGINAL_POP_PROJ_RE...\n",
       "  DataStructureDefinition (1185): ABORIGINAL_POP_PROJ ABORIGINAL_POP_PR..."
      ]
     },
     "execution_count": 32,
     "metadata": {},
     "output_type": "execute_result"
    }
   ],
   "source": [
    "flow_message"
   ]
  },
  {
   "cell_type": "code",
   "execution_count": 33,
   "metadata": {},
   "outputs": [
    {
     "data": {
      "text/plain": [
       "<DataflowDefinition ABS:CPI_M(1.2.0): Monthly Consumer Price Index (CPI) indicator>"
      ]
     },
     "execution_count": 33,
     "metadata": {},
     "output_type": "execute_result"
    }
   ],
   "source": [
    "flow_message.dataflow.CPI_M"
   ]
  },
  {
   "cell_type": "code",
   "execution_count": 37,
   "metadata": {},
   "outputs": [],
   "source": [
    "dataflows = sdmx.to_pandas(flow_message.dataflow)"
   ]
  },
  {
   "cell_type": "code",
   "execution_count": 38,
   "metadata": {},
   "outputs": [
    {
     "data": {
      "text/plain": [
       "ABORIGINAL_POP_PROJ                 Projected population, Aboriginal and Torres St...\n",
       "ABORIGINAL_POP_PROJ_REMOTE          Projected population, Aboriginal and Torres St...\n",
       "ABS_ABORIGINAL_POPPROJ_INDREGION    Projected population, Aboriginal and Torres St...\n",
       "ABS_ACLD_LFSTATUS                   Australian Census Longitudinal Dataset (ACLD):...\n",
       "ABS_ACLD_TENURE                     Australian Census Longitudinal Dataset (ACLD):...\n",
       "dtype: object"
      ]
     },
     "execution_count": 38,
     "metadata": {},
     "output_type": "execute_result"
    }
   ],
   "source": [
    "dataflows.head()"
   ]
  },
  {
   "cell_type": "code",
   "execution_count": 39,
   "metadata": {},
   "outputs": [
    {
     "data": {
      "text/plain": [
       "CPI                  Consumer Price Index (CPI) 17th Series\n",
       "CPI_M          Monthly Consumer Price Index (CPI) indicator\n",
       "CPI_WEIGHTS              Consumer Price Index (CPI) Weights\n",
       "dtype: object"
      ]
     },
     "execution_count": 39,
     "metadata": {},
     "output_type": "execute_result"
    }
   ],
   "source": [
    "dataflows[dataflows.str.contains('CPI')]"
   ]
  },
  {
   "cell_type": "code",
   "execution_count": 40,
   "metadata": {},
   "outputs": [
    {
     "name": "stderr",
     "output_type": "stream",
     "text": [
      "2023-09-01 18:05:50,306 pandasdmx.reader.sdmxml - DEBUG: Truncate sub-microsecond time in <Prepared>\n"
     ]
    },
    {
     "name": "stdout",
     "output_type": "stream",
     "text": [
      "\n",
      "\n",
      "\n",
      "--- SS without DSD ---\n",
      "{1: False}\n",
      "\n",
      "--- <class 'pandasdmx.message.StructureMessage'> ---\n",
      "{2: <pandasdmx.StructureMessage>\n",
      "  <Header>\n",
      "    id: 'IDREF81614'\n",
      "    prepared: '2023-09-01T18:05:52.508134+10:00'\n",
      "    receiver: <Agency Unknown>\n",
      "    sender: <Agency Unknown>\n",
      "    source: \n",
      "    test: False}\n",
      "\n",
      "--- <class 'pandasdmx.model.DataStructureDefinition'> ---\n",
      "{'CPI_M': <DataStructureDefinition ABS:CPI_M(1.2.0): Consumer Price Index Datastructure>}\n",
      "\n",
      "--- <class 'pandasdmx.model.Agency'> ---\n",
      "{'ABS': <Agency ABS>}\n",
      "\n",
      "--- <class 'pandasdmx.model.DataflowDefinition'> ---\n",
      "{'CPI_M': <DataflowDefinition ABS:CPI_M(1.2.0): Monthly Consumer Price Index (CPI) indicator>}\n",
      "\n",
      "--- <class 'pandasdmx.model.CategoryScheme'> ---\n",
      "{62: <CategoryScheme ABS:ECONOMY(1.0.0) (6 items): Economy>, 63: <CategoryScheme ABS:ECONOMY(1.0.0) (1 items)>}\n",
      "\n",
      "--- <class 'pandasdmx.model.Categorisation'> ---\n",
      "{'CAT_CPI_M': <Categorisation ABS:CAT_CPI_M(1.2.0): Monthly Consumer Price Index (CPI) indicator>}\n",
      "\n",
      "--- <class 'pandasdmx.model.Codelist'> ---\n",
      "{'CL_BASE_PERIOD': <Codelist ABS:CL_BASE_PERIOD(2.0.0) (50 items): Reference Base Period>, 'CL_CPI_INDEX_17': <Codelist ABS:CL_CPI_INDEX_17(1.3.0) (170 items): CPI 17th Series Index>, 'CL_CPI_M_MEASURES': <Codelist ABS:CL_CPI_M_MEASURES(1.0.0) (5 items): CPI Measures>, 'CL_CPI_REGION': <Codelist ABS:CL_CPI_REGION(1.0.0) (9 items): CPI Region; Capital cities and International countries>, 'CL_DECIMALS': <Codelist ABS:CL_DECIMALS(1.0.0) (9 items): Decimals>, 'CL_FREQ': <Codelist ABS:CL_FREQ(1.0.0) (9 items): Frequency>, 'CL_OBS_STATUS': <Codelist ABS:CL_OBS_STATUS(1.0.0) (16 items): Observation Status>, 'CL_TSEST': <Codelist ABS:CL_TSEST(1.0.0) (5 items): Time Series Estimates>, 'CL_UNIT_MEASURE': <Codelist ABS:CL_UNIT_MEASURE(1.0.0) (88 items): Unit of Measure>}\n",
      "\n",
      "--- <class 'pandasdmx.model.ConceptScheme'> ---\n",
      "{2371: <ConceptScheme ABS:CS_COMMON(1.0.0) (5 items): Common Concepts>, 2372: <ConceptScheme ABS:CS_COMMON(1.0.0) (1 items)>, 2378: <ConceptScheme ABS:CS_INDEX(1.0.0) (2 items): Index Concepts>, 2379: <ConceptScheme ABS:CS_INDEX(1.0.0) (1 items)>, 'CS_COMMON': <ConceptScheme ABS:CS_COMMON(1.0.0) (4 items)>, 2390: <ConceptScheme ABS:CS_GEOGRAPHY(1.0.0) (25 items): Geography Concepts>, 2391: <ConceptScheme ABS:CS_GEOGRAPHY(1.0.0) (1 items)>, 2407: <ConceptScheme ABS:CS_ATTRIBUTE(1.0.0) (6 items): Attribute Concepts>, 2408: <ConceptScheme ABS:CS_ATTRIBUTE(1.0.0) (1 items)>, 'CS_ATTRIBUTE': <ConceptScheme ABS:CS_ATTRIBUTE(1.0.0) (3 items)>, 2423: <ConceptScheme ABS:CS_DECIMALS(1.0.0) (1 items): Decimals Concepts>, 2424: <ConceptScheme ABS:CS_DECIMALS(1.0.0) (1 items)>}\n",
      "\n",
      "--- <class 'pandasdmx.model.Annotation'> ---\n",
      "{'obs_count': Annotation(id='obs_count', title='4025', type='sdmx_metrics', url=None, text=), 2445: Annotation(id=None, title='A', type='ReleaseVersion', url=None, text=)}\n",
      "\n",
      "--- Name ---\n",
      "{2446: ('en', 'Availability (A) for CPI_M')}\n",
      "\n",
      "--- <class 'pandasdmx.reader.sdmxml.Reference'> ---\n",
      "{'CPI_M': <pandasdmx.reader.sdmxml.Reference object at 0x123b911d0>}\n",
      "\n",
      "--- <class 'pandasdmx.model.MemberSelection'> ---\n",
      "{2450: <MemberSelection MEASURE in {'1', '3'}>, 2482: <MemberSelection INDEX in {'10001', '104122', '114120', '115486', '115488', '115489', '115493', '115522', '115524', '126670', '131179', '131180', '131181', '131186', '20001', '20002', '20003', '20004', '20005', '20006', '30001', '30002', '30003', '30026', '30027', '30033', '40055', '40081', '999901', '999904', '999905'}>, 2485: <MemberSelection TSEST in {'10', '20'}>, 2487: <MemberSelection REGION in {'50'}>, 2489: <MemberSelection FREQ in {'M'}>}\n",
      "\n",
      "--- <class 'pandasdmx.model.RangePeriod'> ---\n",
      "{2492: RangePeriod(start=Period(is_inclusive=True, period=datetime.datetime(2017, 9, 1, 0, 0)), end=Period(is_inclusive=True, period=datetime.datetime(2023, 6, 30, 0, 0)))}\n",
      "\n",
      "<common:KeyValue xmlns:common=\"http://www.sdmx.org/resources/sdmxml/schemas/v2_1/common\" xmlns:message=\"http://www.sdmx.org/resources/sdmxml/schemas/v2_1/message\" xmlns:structure=\"http://www.sdmx.org/resources/sdmxml/schemas/v2_1/structure\" id=\"TIME_PERIOD\">\n",
      "            <common:TimeRange/></common:KeyValue>\n",
      "        \n",
      "\n"
     ]
    },
    {
     "ename": "XMLParseError",
     "evalue": "RuntimeError",
     "output_type": "error",
     "traceback": [
      "\u001b[0;31m---------------------------------------------------------------------------\u001b[0m",
      "\u001b[0;31mRuntimeError\u001b[0m                              Traceback (most recent call last)",
      "File \u001b[0;32m~/.local/share/virtualenvs/boomerville-tQ-fWEq0/lib/python3.11/site-packages/pandasdmx/reader/sdmxml.py:299\u001b[0m, in \u001b[0;36mReader.read_message\u001b[0;34m(self, source, dsd)\u001b[0m\n\u001b[1;32m    297\u001b[0m \u001b[39mtry\u001b[39;00m:\n\u001b[1;32m    298\u001b[0m     \u001b[39m# Parse the element\u001b[39;00m\n\u001b[0;32m--> 299\u001b[0m     result \u001b[39m=\u001b[39m func(\u001b[39mself\u001b[39;49m, element)\n\u001b[1;32m    300\u001b[0m \u001b[39mexcept\u001b[39;00m \u001b[39mTypeError\u001b[39;00m:\n",
      "File \u001b[0;32m~/.local/share/virtualenvs/boomerville-tQ-fWEq0/lib/python3.11/site-packages/pandasdmx/reader/sdmxml.py:1189\u001b[0m, in \u001b[0;36m_ms\u001b[0;34m(reader, elem)\u001b[0m\n\u001b[1;32m   1188\u001b[0m \u001b[39melse\u001b[39;00m:\n\u001b[0;32m-> 1189\u001b[0m     \u001b[39mraise\u001b[39;00m \u001b[39mRuntimeError\u001b[39;00m\n\u001b[1;32m   1191\u001b[0m \u001b[39mif\u001b[39;00m arg[\u001b[39m\"\u001b[39m\u001b[39mvalues_for\u001b[39m\u001b[39m\"\u001b[39m] \u001b[39mis\u001b[39;00m \u001b[39mNone\u001b[39;00m:\n",
      "\u001b[0;31mRuntimeError\u001b[0m: ",
      "\nThe above exception was the direct cause of the following exception:\n",
      "\u001b[0;31mXMLParseError\u001b[0m                             Traceback (most recent call last)",
      "Cell \u001b[0;32mIn[40], line 1\u001b[0m\n\u001b[0;32m----> 1\u001b[0m abs_msg \u001b[39m=\u001b[39m \u001b[39mabs\u001b[39;49m\u001b[39m.\u001b[39;49mdataflow(\u001b[39m'\u001b[39;49m\u001b[39mCPI_M\u001b[39;49m\u001b[39m'\u001b[39;49m)\n",
      "File \u001b[0;32m~/.local/share/virtualenvs/boomerville-tQ-fWEq0/lib/python3.11/site-packages/pandasdmx/api.py:514\u001b[0m, in \u001b[0;36mRequest.get\u001b[0;34m(self, resource_type, resource_id, tofile, use_cache, dry_run, **kwargs)\u001b[0m\n\u001b[1;32m    511\u001b[0m reader \u001b[39m=\u001b[39m Reader()\n\u001b[1;32m    513\u001b[0m \u001b[39m# Parse the message, using any provided or auto-queried DSD\u001b[39;00m\n\u001b[0;32m--> 514\u001b[0m msg \u001b[39m=\u001b[39m reader\u001b[39m.\u001b[39;49mread_message(response_content, dsd\u001b[39m=\u001b[39;49mkwargs\u001b[39m.\u001b[39;49mget(\u001b[39m\"\u001b[39;49m\u001b[39mdsd\u001b[39;49m\u001b[39m\"\u001b[39;49m, \u001b[39mNone\u001b[39;49;00m))\n\u001b[1;32m    516\u001b[0m \u001b[39m# Store the HTTP response with the message\u001b[39;00m\n\u001b[1;32m    517\u001b[0m msg\u001b[39m.\u001b[39mresponse \u001b[39m=\u001b[39m response\n",
      "File \u001b[0;32m~/.local/share/virtualenvs/boomerville-tQ-fWEq0/lib/python3.11/site-packages/pandasdmx/reader/sdmxml.py:316\u001b[0m, in \u001b[0;36mReader.read_message\u001b[0;34m(self, source, dsd)\u001b[0m\n\u001b[1;32m    314\u001b[0m     \u001b[39mself\u001b[39m\u001b[39m.\u001b[39m_dump()\n\u001b[1;32m    315\u001b[0m     \u001b[39mprint\u001b[39m(etree\u001b[39m.\u001b[39mtostring(element, pretty_print\u001b[39m=\u001b[39m\u001b[39mTrue\u001b[39;00m)\u001b[39m.\u001b[39mdecode())\n\u001b[0;32m--> 316\u001b[0m     \u001b[39mraise\u001b[39;00m XMLParseError \u001b[39mfrom\u001b[39;00m \u001b[39mexc\u001b[39;00m\n\u001b[1;32m    318\u001b[0m \u001b[39m# Parsing complete; count uncollected items from the stacks, which represent\u001b[39;00m\n\u001b[1;32m    319\u001b[0m \u001b[39m# parsing errors\u001b[39;00m\n\u001b[1;32m    320\u001b[0m \n\u001b[1;32m    321\u001b[0m \u001b[39m# Remove some internal items\u001b[39;00m\n\u001b[1;32m    322\u001b[0m \u001b[39mself\u001b[39m\u001b[39m.\u001b[39mpop_single(\u001b[39m\"\u001b[39m\u001b[39mSS without DSD\u001b[39m\u001b[39m\"\u001b[39m)\n",
      "\u001b[0;31mXMLParseError\u001b[0m: RuntimeError"
     ]
    }
   ],
   "source": [
    "abs_msg = abs.dataflow('CPI_M')"
   ]
  },
  {
   "cell_type": "code",
   "execution_count": null,
   "metadata": {},
   "outputs": [],
   "source": []
  }
 ],
 "metadata": {
  "kernelspec": {
   "display_name": "boomerville-tQ-fWEq0",
   "language": "python",
   "name": "python3"
  },
  "language_info": {
   "codemirror_mode": {
    "name": "ipython",
    "version": 3
   },
   "file_extension": ".py",
   "mimetype": "text/x-python",
   "name": "python",
   "nbconvert_exporter": "python",
   "pygments_lexer": "ipython3",
   "version": "3.11.0"
  },
  "orig_nbformat": 4
 },
 "nbformat": 4,
 "nbformat_minor": 2
}
