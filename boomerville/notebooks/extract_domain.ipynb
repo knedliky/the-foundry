{
 "cells": [
  {
   "cell_type": "markdown",
   "metadata": {},
   "source": [
    "# Extract Domain House Sales Results\n",
    "\n",
    "The [Domain API](https://developer.domain.com.au/docs/latest/) contains house listings and sales results for homes across Melbourne, Canberra, Sydney, Adelaide and Brisbane. An issue with this dataset is that it is a current snapshot of houses recorded at what seems to be a weekly interval, so it is difficult to know exactly when the house was sold within the time period and it is impossible to get a historical view of previous house sales.\n",
    "\n",
    "---"
   ]
  },
  {
   "cell_type": "code",
   "execution_count": 4,
   "metadata": {},
   "outputs": [],
   "source": [
    "import requests\n",
    "import os\n",
    "import sys\n",
    "sys.path.append('../src')\n",
    "import domain_client\n",
    "from dotenv import load_dotenv\n",
    "import pandas as pd\n",
    "\n",
    "load_dotenv()"
   ]
  },
  {
   "cell_type": "code",
   "execution_count": 5,
   "metadata": {},
   "outputs": [],
   "source": [
    "# Instantiate the Domain API Client\n",
    "client= domain_client.DomainClient(os.environ['domain_client'], os.environ['domain_client_secret'])\n",
    "client.authorise()"
   ]
  },
  {
   "cell_type": "code",
   "execution_count": 9,
   "metadata": {},
   "outputs": [],
   "source": [
    "df = pd.concat(\n",
    "    [pd.DataFrame(client.get_city_listings(\"Sydney\")),\n",
    "    pd.DataFrame(client.get_city_listings(\"Melbourne\")),\n",
    "    pd.DataFrame(client.get_city_listings(\"Brisbane\")),\n",
    "    pd.DataFrame(client.get_city_listings(\"Perth\")),\n",
    "    pd.DataFrame(client.get_city_listings(\"Adelaide\")),\n",
    "    pd.DataFrame(client.get_city_listings(\"Hobart\")),\n",
    "    pd.DataFrame(client.get_city_listings(\"Darwin\")),\n",
    "    pd.DataFrame(client.get_city_listings(\"Canberra\"))]\n",
    ")"
   ]
  },
  {
   "cell_type": "code",
   "execution_count": 12,
   "metadata": {},
   "outputs": [
    {
     "data": {
      "text/plain": [
       "array(['Nsw', 'Vic', 'Qld', 'Sa', 'Act'], dtype=object)"
      ]
     },
     "execution_count": 12,
     "metadata": {},
     "output_type": "execute_result"
    }
   ],
   "source": [
    "df['state'].unique()"
   ]
  },
  {
   "cell_type": "code",
   "execution_count": null,
   "metadata": {},
   "outputs": [],
   "source": []
  }
 ],
 "metadata": {
  "kernelspec": {
   "display_name": "boomerville-tQ-fWEq0",
   "language": "python",
   "name": "python3"
  },
  "language_info": {
   "codemirror_mode": {
    "name": "ipython",
    "version": 3
   },
   "file_extension": ".py",
   "mimetype": "text/x-python",
   "name": "python",
   "nbconvert_exporter": "python",
   "pygments_lexer": "ipython3",
   "version": "3.10.6"
  },
  "orig_nbformat": 4
 },
 "nbformat": 4,
 "nbformat_minor": 2
}
